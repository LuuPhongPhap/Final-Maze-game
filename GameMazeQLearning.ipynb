{
  "cells": [
    {
      "cell_type": "code",
      "execution_count": 15,
      "metadata": {
        "id": "f9DAVfyeVtWj"
      },
      "outputs": [],
      "source": [
        "import numpy as np\n",
        "import matplotlib.pyplot as plt\n",
        "from matplotlib.patches import Circle\n",
        "import time\n",
        "from IPython.display import clear_output"
      ]
    },
    {
      "cell_type": "code",
      "execution_count": 16,
      "metadata": {
        "id": "78et5T8V23wG"
      },
      "outputs": [],
      "source": [
        "# Khởi tạo mê cung (0 = đường đi, 1 = tường, 2 = đích)\n",
        "maze = np.array([\n",
        "    [0, 1, 0, 0, 0, 0, 1, 0, 0, 0],\n",
        "    [0, 1, 0, 1, 1, 0, 1, 0, 1, 0],\n",
        "    [0, 0, 0, 0, 1, 0, 0, 0, 1, 0],\n",
        "    [0, 1, 1, 1, 1, 0, 1, 1, 1, 0],\n",
        "    [0, 1, 0, 0, 0, 0, 0, 0, 0, 0],\n",
        "    [0, 0, 0, 1, 1, 1, 0, 1, 1, 0],\n",
        "    [0, 1, 0, 0, 0, 0, 0, 0, 1, 0],\n",
        "    [1, 1, 1, 1, 1, 1, 0, 0, 0, 0],\n",
        "    [0, 0, 0, 0, 0, 0, 0, 1, 1, 0],\n",
        "    [1, 1, 1, 0, 0, 1, 0, 0, 0, 2]\n",
        "])"
      ]
    },
    {
      "cell_type": "code",
      "execution_count": 17,
      "metadata": {
        "id": "4Cm9p8o024wz"
      },
      "outputs": [],
      "source": [
        "# Vị trí ban đầu của agent\n",
        "agent_pos = [0, 0]\n",
        "\n",
        "# Các hướng di chuyển [lên, xuống, trái, phải]\n",
        "actions = [[-1, 0], [1, 0], [0, -1], [0, 1]]"
      ]
    },
    {
      "cell_type": "code",
      "execution_count": 18,
      "metadata": {
        "id": "pFFfLpOE27cw"
      },
      "outputs": [],
      "source": [
        "# Q-learning\n",
        "Q_table = np.zeros((maze.shape[0], maze.shape[1], 4))\n",
        "alpha = 0.1\n",
        "gamma = 0.9\n",
        "epsilon = 0.1"
      ]
    },
    {
      "cell_type": "code",
      "execution_count": 19,
      "metadata": {
        "id": "ur50rmi_3BIL"
      },
      "outputs": [],
      "source": [
        "# Hàm chọn hành động\n",
        "def choose_action(state):\n",
        "    if np.random.uniform(0, 1) < epsilon:\n",
        "        return np.random.randint(0, 4)\n",
        "    else:\n",
        "        return np.argmax(Q_table[state[0], state[1]])"
      ]
    },
    {
      "cell_type": "code",
      "execution_count": 20,
      "metadata": {
        "id": "iX8K6exZ3Fg-"
      },
      "outputs": [],
      "source": [
        "# Hàm kiểm tra nếu một vị trí là hợp lệ\n",
        "def valid_move(pos):\n",
        "    if 0 <= pos[0] < maze.shape[0] and 0 <= pos[1] < maze.shape[1]:\n",
        "        return maze[pos[0], pos[1]] != 1\n",
        "    return False"
      ]
    },
    {
      "cell_type": "code",
      "source": [
        "# Hàm kiểm tra nếu agent bị kẹt (đường cụt)\n",
        "def is_dead_end(pos):\n",
        "    dead_end = True\n",
        "    for action in actions:\n",
        "        new_pos = [pos[0] + action[0], pos[1] + action[1]]\n",
        "        if valid_move(new_pos):\n",
        "            dead_end = False  # Nếu có ít nhất một hướng hợp lệ, không phải đường cụt\n",
        "            break\n",
        "    return dead_end"
      ],
      "metadata": {
        "id": "RXnYdVasL1cp"
      },
      "execution_count": 21,
      "outputs": []
    },
    {
      "cell_type": "code",
      "execution_count": 22,
      "metadata": {
        "id": "_TZta6jJ3IdD"
      },
      "outputs": [],
      "source": [
        "#Tính phần thưởng\n",
        "def get_reward(pos):\n",
        "    if maze[pos[0], pos[1]] == 2:\n",
        "        return 100  # Đạt đích\n",
        "    elif is_dead_end(pos):\n",
        "        return -10  # Đường cụt\n",
        "    else:\n",
        "        return -0.1  # Phần thưởng âm cho mỗi bước đi"
      ]
    },
    {
      "cell_type": "code",
      "execution_count": 23,
      "metadata": {
        "id": "l_inWzCo3LjQ"
      },
      "outputs": [],
      "source": [
        "#Cập nhật Q-values\n",
        "def update_q(state, action, reward, next_state):\n",
        "    current_q = Q_table[state[0], state[1], action]\n",
        "    max_next_q = np.max(Q_table[next_state[0], next_state[1]])\n",
        "    new_q = (1 - alpha) * current_q + alpha * (reward + gamma * max_next_q)\n",
        "    Q_table[state[0], state[1], action] = new_q"
      ]
    },
    {
      "cell_type": "code",
      "execution_count": 24,
      "metadata": {
        "id": "vGArE4h73ObK"
      },
      "outputs": [],
      "source": [
        "# Vẽ mê cung và agent\n",
        "def draw_maze(agent_pos):\n",
        "    clear_output(wait=True)\n",
        "    fig, ax = plt.subplots(figsize=(5, 5))\n",
        "\n",
        "    # Vẽ lưới\n",
        "    ax.set_xticks(np.arange(-.5, maze.shape[1], 1), minor=True)\n",
        "    ax.set_yticks(np.arange(-.5, maze.shape[0], 1), minor=True)\n",
        "    ax.grid(which='minor', color='black', linestyle='-', linewidth=2)\n",
        "\n",
        "    # Vẽ tường và đích\n",
        "    for i in range(maze.shape[0]):\n",
        "        for j in range(maze.shape[1]):\n",
        "            if maze[i, j] == 1:\n",
        "                ax.add_patch(plt.Rectangle((j - 0.5, i - 0.5), 1, 1, fill=True, color='black'))\n",
        "            elif maze[i, j] == 2:\n",
        "                ax.add_patch(plt.Rectangle((j - 0.5, i - 0.5), 1, 1, fill=True, color='green'))\n",
        "\n",
        "    # Vẽ agent\n",
        "    agent_circle = Circle((agent_pos[1], agent_pos[0]), 0.3, color='blue')\n",
        "    ax.add_patch(agent_circle)\n",
        "\n",
        "    # Ẩn trục x, y\n",
        "    ax.axis('off')\n",
        "\n",
        "    # Cài đặt giới hạn và hiển thị\n",
        "    plt.xlim([-0.5, maze.shape[1] - 0.5])\n",
        "    plt.ylim([maze.shape[0] - 0.5, -0.5])\n",
        "    plt.gca().set_aspect('equal', adjustable='box')\n",
        "    plt.show()"
      ]
    },
    {
      "cell_type": "code",
      "source": [
        "import csv\n",
        "\n",
        "# Hàm lưu kết quả sau mỗi epoch vào file CSV\n",
        "def save_results_to_csv(epoch, total_reward, steps, filename='training_results.csv'):\n",
        "    file_exists = False\n",
        "    try:\n",
        "        # Kiểm tra xem file đã tồn tại chưa\n",
        "        with open(filename, 'r'):\n",
        "            file_exists = True\n",
        "    except FileNotFoundError:\n",
        "        pass\n",
        "\n",
        "    # Ghi dữ liệu vào file CSV (thêm dòng mới sau mỗi epoch)\n",
        "    with open(filename, 'a', newline='') as file:\n",
        "        writer = csv.writer(file)\n",
        "        # Nếu file mới được tạo, ghi tiêu đề\n",
        "        if not file_exists:\n",
        "            writer.writerow([\"Epoch\", \"Total Reward\"])\n",
        "        # Ghi dữ liệu cho mỗi epoch\n",
        "        writer.writerow([epoch + 1, total_reward])"
      ],
      "metadata": {
        "id": "ONyXeRILA-Pn"
      },
      "execution_count": 25,
      "outputs": []
    },
    {
      "cell_type": "code",
      "source": [
        "# Hàm demo quá trình di chuyển của agent với Q-table đã được huấn luyện\n",
        "def demo_best_agent(Q_table, delay=0.1):\n",
        "    agent_pos = [0, 0]  # Đặt lại vị trí ban đầu\n",
        "\n",
        "    while maze[agent_pos[0], agent_pos[1]] != 2:  # Tiếp tục cho đến khi đến đích\n",
        "        draw_maze(agent_pos)\n",
        "        action = np.argmax(Q_table[agent_pos[0], agent_pos[1]])  # Chọn hành động tốt nhất từ Q-table\n",
        "        new_pos = [agent_pos[0] + actions[action][0], agent_pos[1] + actions[action][1]]\n",
        "\n",
        "        if valid_move(new_pos):\n",
        "            agent_pos = new_pos\n",
        "            time.sleep(delay)  # Thêm độ trễ để quan sát quá trình di chuyển\n",
        "\n",
        "    draw_maze(agent_pos)  # Vẽ lần cuối khi đã đến đích\n",
        "    print(\"Agent đã đến đích!\")"
      ],
      "metadata": {
        "id": "S5IS1kpUvaja"
      },
      "execution_count": 26,
      "outputs": []
    },
    {
      "cell_type": "code",
      "execution_count": 27,
      "metadata": {
        "id": "WzBXxJS_3Rgs"
      },
      "outputs": [],
      "source": [
        "# Mô phỏng quá trình di chuyển của agent\n",
        "def simulate_agent(epochs=2000, delay=0.0001, save_filename='training_results.csv'):\n",
        "    global agent_pos\n",
        "    rewards_per_epoch = []  # Danh sách để lưu tổng phần thưởng mỗi epoch\n",
        "    step = 0\n",
        "\n",
        "    for epoch in range(epochs):\n",
        "        agent_pos = [0, 0]  # Đặt lại vị trí ban đầu\n",
        "        total_reward = 0  # Khởi tạo tổng phần thưởng cho mỗi lần huấn luyện\n",
        "        steps = 0  # Đếm số bước agent di chuyển trong mỗi epoch\n",
        "\n",
        "        while maze[agent_pos[0], agent_pos[1]] != 2:\n",
        "            action = choose_action(agent_pos)\n",
        "            new_pos = [agent_pos[0] + actions[action][0], agent_pos[1] + actions[action][1]]\n",
        "\n",
        "            if valid_move(new_pos):\n",
        "                reward = get_reward(new_pos)\n",
        "                update_q(agent_pos, action, reward, new_pos)\n",
        "                agent_pos = new_pos\n",
        "                total_reward += reward  # Cộng phần thưởng mỗi lần agent di chuyển\n",
        "                steps += 1  # Tăng số bước\n",
        "                draw_maze(agent_pos)  # Hiển thị mê cung và hành động của agent\n",
        "                time.sleep(delay)  # Thêm độ trễ để xem chuyển động\n",
        "\n",
        "        # Lưu tổng phần thưởng sau mỗi epoch\n",
        "        rewards_per_epoch.append(total_reward)\n",
        "        print(f'Epoch {epoch + 1}: Total Reward: {total_reward}, Steps: {steps}')\n",
        "\n",
        "        # Lưu dữ liệu sau mỗi epoch vào file CSV\n",
        "        save_results_to_csv(epoch, total_reward, steps, save_filename)\n",
        "\n",
        "    # Vẽ đồ thị tổng phần thưởng theo từng epoch\n",
        "    plt.figure(figsize=(10, 4))\n",
        "    plt.plot(rewards_per_epoch, label=\"Total Reward per Epoch\")\n",
        "    plt.xlabel(\"Epoch\")\n",
        "    plt.ylabel(\"Total Reward\")\n",
        "    plt.title(\"Training Progress - Total Reward per Epoch\")\n",
        "    plt.legend()\n",
        "    plt.grid(True)\n",
        "    plt.show()\n",
        "\n",
        "    # Trả về kết quả huấn luyện\n",
        "    return rewards_per_epoch"
      ]
    },
    {
      "cell_type": "code",
      "execution_count": 28,
      "metadata": {
        "colab": {
          "base_uri": "https://localhost:8080/",
          "height": 870
        },
        "id": "pzmknUMa4BgV",
        "outputId": "d6901a60-2732-4866-8ed8-430b028c69c2"
      },
      "outputs": [
        {
          "output_type": "display_data",
          "data": {
            "text/plain": [
              "<Figure size 500x500 with 1 Axes>"
            ],
            "image/png": "[encoded data removed]"
          },
          "metadata": {}
        },
        {
          "output_type": "stream",
          "name": "stdout",
          "text": [
            "Epoch 2000: Total Reward: 97.7, Steps: 24\n"
          ]
        },
        {
          "output_type": "display_data",
          "data": {
            "text/plain": [
              "<Figure size 1000x400 with 1 Axes>"
            ],
            "image/png": "[encoded data removed]"
          },
          "metadata": {}
        },
        {
          "output_type": "stream",
          "name": "stdout",
          "text": [
            "Training results: [58.49999999999968, 74.09999999999991, 69.29999999999984, 48.299999999999535, 37.099999999999376, 70.29999999999984, 25.09999999999998, 85.70000000000003, 58.099999999999675, 58.49999999999968, 91.30000000000001, 93.30000000000001, 82.50000000000003, 67.8999999999998, -24.899999999997178, 76.09999999999994, 86.90000000000003, 95.5, 89.90000000000002, 94.10000000000001, 69.49999999999983, 71.29999999999987, 81.70000000000002, 46.29999999999951, 81.9, 82.90000000000003, 91.10000000000002, 80.9, 73.2999999999999, 64.69999999999976, 85.10000000000004, 87.30000000000003, 51.49999999999958, 88.30000000000003, 97.1, 92.50000000000001, 87.90000000000003, 83.10000000000002, 89.30000000000003, 63.29999999999975, 85.50000000000003, 89.90000000000002, 92.9, 75.29999999999993, 92.10000000000001, 92.9, 87.50000000000003, 76.29999999999993, 84.70000000000005, 93.7, 96.5, 93.7, 69.89999999999984, 95.3, 77.49999999999994, 95.5, 96.3, 96.7, 84.90000000000003, 88.50000000000003, 85.10000000000004, 93.7, 92.50000000000001, 87.10000000000002, 86.70000000000003, 95.5, 96.1, 97.5, 84.90000000000003, 80.1, 85.30000000000004, 82.90000000000003, 93.10000000000001, 95.9, 89.70000000000002, 96.7, 89.50000000000003, 93.5, 90.50000000000001, 94.9, 86.30000000000004, 90.30000000000001, 86.30000000000004, 90.50000000000001, 90.70000000000002, 94.9, 94.5, 97.1, 94.5, 92.10000000000001, 95.9, 89.70000000000002, 94.5, 77.49999999999994, 80.69999999999999, 86.50000000000003, 65.29999999999978, 86.50000000000003, 96.7, 92.30000000000001, 68.69999999999982, 88.10000000000002, 91.10000000000002, 95.1, 94.9, 92.30000000000001, 88.50000000000003, 91.10000000000002, 95.9, 92.30000000000001, 96.3, 96.1, 94.9, 96.9, 94.5, 91.30000000000001, 94.10000000000001, 97.3, 98.1, 95.7, 85.90000000000003, 93.9, 96.9, 94.9, 97.3, 95.7, 96.1, 92.50000000000001, 98.1, 97.5, 91.50000000000001, 95.3, 93.7, 97.3, 97.1, 97.1, 95.9, 95.7, 96.9, 97.3, 96.9, 97.5, 96.9, 95.1, 95.7, 95.9, 91.9, 94.9, 94.9, 97.5, 97.5, 97.5, 97.9, 97.9, 98.1, 97.3, 97.7, 95.7, 97.9, 98.1, 97.9, 97.5, 97.3, 97.9, 98.1, 98.1, 98.1, 98.1, 97.9, 97.7, 98.1, 98.1, 97.3, 97.5, 98.1, 97.9, 97.9, 97.9, 98.1, 98.1, 97.9, 97.9, 97.9, 97.7, 97.9, 98.1, 98.1, 98.1, 98.1, 97.7, 98.1, 97.7, 98.1, 97.5, 97.9, 98.1, 98.1, 97.9, 98.1, 98.1, 98.1, 97.7, 97.9, 97.9, 97.7, 97.9, 97.7, 98.1, 97.9, 97.9, 97.9, 97.9, 97.9, 98.1, 97.3, 98.1, 97.7, 97.7, 97.9, 98.1, 98.1, 98.1, 98.1, 98.1, 98.3, 98.1, 98.1, 98.1, 98.1, 97.7, 98.1, 97.7, 98.1, 97.9, 98.1, 98.1, 97.9, 97.5, 97.9, 97.9, 97.9, 97.9, 97.9, 97.9, 97.7, 98.1, 98.1, 97.7, 95.5, 97.9, 98.1, 97.9, 98.1, 97.7, 98.1, 98.1, 97.7, 98.1, 98.1, 97.9, 98.1, 97.9, 98.1, 98.1, 98.1, 97.9, 97.9, 98.1, 98.1, 97.9, 98.1, 98.1, 98.1, 98.1, 97.9, 98.1, 97.9, 97.9, 98.1, 97.9, 98.1, 98.1, 98.1, 97.9, 97.9, 97.9, 97.9, 98.1, 97.9, 98.1, 97.7, 98.1, 97.9, 97.5, 98.1, 98.1, 98.1, 97.9, 98.1, 97.7, 98.1, 98.1, 97.9, 98.1, 97.7, 97.9, 98.1, 97.9, 97.7, 98.1, 97.5, 98.1, 97.9, 98.1, 98.1, 97.7, 98.1, 98.1, 97.9, 97.7, 98.1, 98.1, 97.9, 97.9, 97.9, 98.1, 97.9, 97.7, 97.5, 97.9, 98.1, 98.1, 98.1, 98.1, 98.1, 97.7, 98.1, 98.1, 98.1, 97.9, 98.1, 97.9, 98.1, 97.7, 97.7, 97.9, 97.9, 97.9, 98.1, 98.1, 97.9, 98.1, 98.3, 97.5, 97.7, 97.9, 98.1, 97.7, 97.9, 98.1, 98.1, 97.7, 98.1, 97.7, 98.1, 97.9, 97.5, 97.9, 97.9, 97.7, 97.9, 98.1, 97.9, 98.1, 98.1, 97.7, 98.1, 97.9, 97.9, 98.1, 98.1, 97.9, 97.9, 98.1, 98.1, 98.1, 97.5, 97.9, 97.9, 98.1, 97.9, 98.1, 98.1, 97.9, 97.9, 97.7, 98.1, 97.9, 98.1, 97.1, 98.1, 98.1, 98.1, 98.1, 97.9, 98.1, 97.9, 97.9, 98.1, 98.1, 98.1, 97.9, 98.1, 97.9, 98.1, 97.7, 98.1, 97.9, 98.1, 97.9, 97.9, 98.1, 98.1, 98.1, 98.1, 98.1, 98.1, 98.1, 97.9, 97.9, 98.1, 98.1, 98.1, 98.1, 98.1, 98.1, 97.9, 98.1, 98.1, 98.1, 98.1, 97.9, 98.1, 97.9, 98.1, 97.9, 98.1, 97.9, 98.1, 97.7, 98.1, 98.1, 97.7, 97.9, 97.7, 97.5, 98.1, 97.9, 97.9, 97.9, 98.1, 97.9, 97.7, 98.1, 97.9, 98.1, 98.1, 97.9, 98.1, 98.1, 98.1, 97.7, 97.9, 98.1, 97.9, 98.1, 98.1, 97.7, 98.1, 97.9, 97.9, 98.1, 98.1, 98.1, 97.9, 97.9, 97.9, 98.1, 98.1, 98.1, 97.9, 98.1, 98.1, 97.7, 97.9, 97.5, 98.1, 98.1, 97.7, 97.9, 98.1, 97.7, 98.1, 97.7, 97.9, 97.7, 97.9, 98.1, 97.7, 98.1, 98.1, 97.9, 98.1, 97.9, 97.9, 97.9, 98.1, 97.9, 98.1, 98.1, 97.7, 98.1, 98.1, 97.9, 98.1, 97.9, 97.9, 98.1, 98.1, 98.1, 98.1, 97.7, 98.1, 97.9, 98.1, 97.5, 97.9, 98.1, 98.1, 97.9, 97.9, 97.9, 98.1, 98.1, 97.9, 98.1, 98.1, 97.9, 98.1, 97.9, 97.9, 97.5, 97.7, 98.1, 97.9, 97.9, 98.1, 97.7, 97.9, 98.1, 98.1, 97.9, 97.9, 98.1, 97.9, 97.3, 98.1, 97.9, 98.1, 98.1, 97.9, 98.1, 98.1, 98.1, 97.5, 98.3, 98.1, 98.1, 97.9, 97.9, 97.3, 98.1, 97.7, 98.1, 98.1, 97.9, 97.9, 98.1, 97.9, 97.9, 97.9, 97.9, 97.9, 98.1, 97.9, 97.7, 97.9, 98.1, 97.9, 97.9, 98.1, 97.9, 97.7, 98.1, 97.9, 98.1, 96.9, 98.1, 98.1, 97.7, 97.9, 97.9, 98.1, 97.7, 98.1, 98.1, 97.5, 98.1, 98.1, 98.1, 98.1, 98.1, 97.7, 97.9, 97.9, 97.9, 98.3, 98.1, 97.9, 98.1, 98.1, 97.9, 98.1, 98.1, 98.1, 97.9, 97.9, 98.3, 98.1, 98.1, 97.9, 97.9, 97.9, 98.1, 97.9, 97.9, 98.1, 98.1, 98.1, 98.1, 98.1, 97.7, 98.1, 97.9, 98.1, 98.1, 97.9, 97.9, 97.5, 97.7, 98.1, 98.1, 97.9, 98.1, 98.1, 97.7, 98.1, 98.1, 97.9, 97.7, 97.9, 98.1, 98.1, 98.1, 98.1, 98.1, 98.1, 98.1, 98.1, 97.9, 98.1, 98.1, 98.1, 97.7, 98.1, 98.1, 97.7, 98.1, 98.1, 98.1, 98.1, 98.1, 98.1, 97.9, 98.1, 98.1, 98.1, 98.1, 97.9, 97.9, 98.1, 98.1, 97.9, 97.7, 98.1, 97.7, 97.9, 98.1, 98.1, 98.1, 97.7, 98.1, 98.1, 97.9, 97.7, 98.1, 97.9, 98.1, 98.1, 98.1, 97.9, 97.9, 98.1, 97.9, 98.1, 98.1, 98.1, 98.1, 98.1, 97.7, 97.9, 98.1, 97.9, 98.1, 97.9, 98.1, 98.1, 97.9, 97.9, 98.1, 98.1, 98.1, 98.1, 97.7, 98.1, 97.9, 98.1, 97.9, 98.1, 98.1, 98.1, 97.9, 98.1, 98.1, 98.1, 98.1, 98.1, 97.9, 97.7, 98.1, 98.1, 97.9, 97.9, 98.1, 97.9, 98.1, 97.9, 98.1, 98.1, 98.1, 98.1, 98.1, 98.1, 97.9, 97.7, 97.9, 98.1, 98.1, 98.1, 97.3, 98.1, 98.1, 98.1, 97.9, 97.5, 97.9, 98.1, 97.7, 98.1, 97.9, 98.1, 98.1, 98.1, 97.7, 98.1, 98.1, 98.1, 98.1, 97.9, 98.1, 98.1, 97.9, 98.1, 97.9, 98.1, 97.5, 97.9, 97.9, 98.1, 98.1, 97.9, 97.9, 97.9, 98.1, 97.9, 98.1, 98.1, 98.1, 98.1, 98.1, 98.1, 97.7, 98.1, 97.9, 98.1, 97.9, 97.9, 98.1, 97.5, 97.5, 98.1, 98.1, 97.9, 97.7, 98.1, 98.1, 98.1, 97.9, 98.1, 97.7, 97.7, 97.9, 97.9, 97.9, 98.1, 97.5, 97.9, 97.3, 97.7, 98.1, 97.7, 97.9, 97.7, 97.9, 97.9, 98.1, 98.1, 97.5, 97.5, 97.9, 98.1, 98.1, 97.9, 97.9, 97.9, 98.1, 97.9, 97.7, 98.1, 98.1, 98.1, 97.9, 98.1, 97.7, 97.9, 98.1, 97.9, 98.1, 98.1, 97.9, 98.1, 98.1, 98.1, 98.1, 98.1, 98.1, 97.9, 97.9, 97.9, 98.1, 98.1, 98.1, 98.1, 98.1, 97.7, 97.5, 98.1, 98.1, 98.1, 97.9, 98.1, 97.5, 98.1, 98.1, 97.9, 98.1, 98.1, 98.1, 98.1, 98.1, 98.1, 97.9, 97.9, 98.1, 97.9, 97.9, 97.7, 98.1, 97.9, 98.1, 98.1, 97.9, 97.7, 98.1, 97.9, 98.1, 97.9, 98.1, 97.9, 97.9, 98.1, 97.9, 97.9, 98.1, 98.1, 98.1, 98.1, 97.9, 98.1, 97.7, 97.9, 98.1, 97.9, 97.7, 98.1, 98.1, 98.1, 98.3, 98.1, 98.1, 97.9, 98.1, 97.9, 97.7, 98.1, 98.1, 97.9, 97.7, 98.1, 98.1, 98.1, 98.1, 97.9, 97.9, 97.9, 97.7, 97.7, 98.1, 97.9, 98.1, 97.9, 97.7, 97.9, 97.9, 98.1, 98.1, 97.7, 98.3, 98.1, 98.1, 97.9, 98.3, 97.7, 98.1, 97.9, 98.1, 98.1, 97.5, 97.9, 98.1, 98.1, 98.1, 97.9, 97.9, 98.1, 98.1, 98.1, 97.7, 98.1, 98.1, 97.7, 97.9, 97.3, 98.1, 98.1, 97.7, 98.1, 98.1, 97.9, 97.9, 97.7, 98.1, 98.1, 98.1, 98.1, 98.1, 98.1, 98.1, 98.1, 97.9, 98.1, 97.9, 97.9, 97.9, 97.7, 98.1, 98.1, 97.9, 97.9, 97.9, 97.9, 98.1, 98.1, 98.1, 97.9, 98.1, 98.1, 97.9, 97.9, 98.1, 98.1, 98.1, 97.9, 97.7, 98.1, 97.9, 98.1, 98.1, 98.1, 98.1, 97.9, 97.9, 98.1, 98.1, 98.1, 97.9, 97.7, 98.1, 98.1, 98.1, 98.1, 98.1, 98.1, 98.1, 98.1, 98.1, 98.3, 98.1, 98.1, 98.1, 98.1, 97.9, 97.9, 98.1, 97.5, 97.9, 98.1, 98.1, 97.9, 97.7, 97.5, 97.7, 98.1, 98.1, 98.1, 97.5, 97.7, 97.9, 98.1, 98.1, 97.9, 97.9, 97.7, 97.5, 97.7, 97.9, 98.1, 97.5, 97.9, 97.9, 98.1, 98.1, 98.1, 98.1, 98.1, 98.1, 97.9, 97.7, 97.7, 98.1, 97.7, 97.7, 98.1, 97.7, 98.3, 97.9, 97.9, 98.1, 98.1, 97.9, 97.7, 98.1, 97.7, 98.1, 98.1, 98.1, 98.1, 98.1, 97.9, 97.9, 97.7, 98.1, 97.9, 97.3, 98.1, 97.9, 98.1, 97.9, 97.9, 97.9, 98.1, 97.9, 97.7, 97.9, 98.1, 98.1, 97.9, 97.7, 98.1, 98.1, 98.1, 97.9, 97.9, 97.9, 98.1, 98.1, 98.1, 98.1, 98.3, 98.1, 98.1, 97.7, 98.1, 98.1, 98.1, 97.7, 98.1, 98.1, 97.9, 97.7, 97.9, 98.1, 97.7, 97.9, 98.3, 97.9, 98.1, 98.1, 98.1, 97.5, 98.1, 98.1, 98.1, 98.1, 97.9, 97.9, 98.1, 97.9, 98.1, 98.1, 98.1, 98.1, 97.9, 98.1, 98.1, 98.1, 98.1, 98.1, 97.9, 97.7, 98.1, 98.1, 97.9, 98.1, 98.1, 98.1, 97.7, 98.1, 98.1, 97.5, 97.9, 97.9, 97.7, 98.1, 98.1, 97.7, 98.1, 97.5, 97.9, 98.1, 98.1, 97.7, 98.1, 97.9, 97.9, 97.9, 98.1, 97.9, 98.1, 98.1, 98.1, 98.1, 98.1, 98.1, 98.1, 98.1, 97.7, 98.1, 97.9, 97.9, 97.7, 98.1, 97.9, 97.5, 98.1, 98.1, 97.7, 97.9, 98.1, 98.1, 97.9, 97.7, 97.7, 98.1, 97.9, 98.1, 98.1, 98.1, 97.9, 98.1, 98.1, 97.9, 98.1, 98.1, 98.1, 98.1, 97.7, 97.7, 98.1, 98.1, 97.9, 97.9, 97.9, 98.1, 98.1, 98.1, 98.1, 97.7, 98.3, 97.9, 98.1, 98.1, 98.1, 98.1, 97.9, 98.1, 97.7, 98.1, 98.1, 97.9, 97.9, 98.1, 98.1, 98.1, 97.7, 98.1, 98.1, 98.1, 97.7, 98.1, 98.1, 98.1, 97.9, 97.3, 98.3, 98.1, 98.1, 97.7, 98.1, 98.1, 97.9, 97.9, 97.9, 97.7, 98.1, 98.1, 97.9, 98.1, 98.1, 98.1, 98.1, 98.1, 98.1, 98.1, 98.1, 98.1, 97.7, 98.1, 98.1, 98.1, 98.1, 98.1, 97.7, 98.1, 97.9, 98.1, 98.1, 98.1, 97.9, 97.5, 97.9, 97.7, 97.9, 98.1, 97.7, 97.9, 97.3, 98.1, 97.9, 97.7, 97.9, 97.7, 98.1, 98.1, 98.1, 98.1, 97.7, 97.9, 98.1, 97.7, 97.9, 98.1, 98.1, 97.9, 97.9, 97.9, 98.1, 97.9, 98.1, 97.7, 97.7, 98.1, 97.9, 97.9, 97.9, 97.5, 97.7, 97.9, 98.1, 97.9, 98.1, 98.1, 98.1, 98.1, 97.9, 98.1, 98.1, 98.1, 97.9, 97.9, 98.1, 98.1, 97.9, 98.1, 98.1, 97.7, 97.9, 97.5, 97.7, 97.9, 97.9, 98.1, 98.1, 98.1, 98.1, 97.9, 97.7, 98.1, 98.1, 98.1, 97.9, 97.9, 97.7, 97.7, 97.9, 98.1, 98.1, 97.1, 97.9, 97.9, 98.1, 97.9, 97.9, 98.1, 97.9, 98.1, 98.1, 97.9, 98.1, 97.9, 98.1, 98.1, 97.7, 98.1, 97.7, 98.1, 97.9, 97.9, 97.9, 98.1, 98.1, 98.1, 97.7, 98.1, 97.9, 98.1, 98.1, 98.1, 97.9, 98.1, 97.9, 97.5, 97.9, 97.9, 98.1, 97.7, 97.9, 98.1, 97.7, 97.7, 97.9, 98.1, 98.1, 97.9, 97.5, 98.1, 98.1, 98.1, 98.1, 97.9, 98.1, 98.1, 97.5, 97.7, 98.1, 98.1, 97.9, 97.9, 98.3, 98.1, 98.1, 98.1, 97.9, 98.1, 98.1, 97.9, 98.1, 97.9, 98.1, 98.1, 98.1, 98.1, 97.9, 98.1, 97.9, 97.9, 97.7, 97.9, 97.9, 97.9, 97.9, 97.9, 98.1, 97.7, 98.1, 97.9, 98.1, 98.1, 98.1, 98.1, 97.9, 98.1, 97.9, 97.7, 98.1, 98.1, 97.9, 97.9, 98.1, 97.9, 97.7, 98.1, 98.1, 97.9, 98.1, 97.7, 98.1, 98.1, 98.1, 97.9, 98.1, 98.1, 97.9, 97.9, 98.1, 97.9, 97.7, 98.1, 98.1, 98.3, 98.1, 98.1, 98.1, 98.1, 98.1, 97.9, 98.1, 97.9, 98.1, 97.9, 98.1, 98.1, 98.1, 98.1, 98.1, 97.9, 98.1, 97.9, 98.1, 97.9, 97.9, 97.9, 97.7, 98.1, 98.1, 98.1, 98.1, 98.1, 97.7, 98.1, 97.9, 97.9, 97.9, 98.1, 98.1, 98.1, 97.9, 97.9, 97.7, 98.1, 98.1, 98.1, 98.1, 98.1, 98.1, 98.1, 97.7, 97.9, 97.7, 98.1, 98.1, 97.7, 97.9, 97.7, 97.9, 98.1, 98.1, 97.7, 98.1, 98.1, 97.7, 98.1, 97.9, 97.9, 98.1, 97.9, 97.9, 97.9, 97.7, 97.7, 97.9, 98.1, 97.7, 98.1, 97.9, 98.1, 98.1, 98.1, 98.1, 98.1, 98.1, 97.5, 97.5, 97.9, 97.9, 97.9, 97.7, 98.1, 98.1, 98.1, 97.7, 97.9, 97.9, 98.1, 98.3, 97.9, 97.7, 98.1, 98.1, 98.1, 97.9, 98.1, 98.1, 98.1, 98.1, 97.7, 97.9, 98.1, 98.1, 98.1, 97.9, 98.1, 97.7, 97.9, 98.1, 97.9, 97.9, 97.9, 97.7, 97.9, 97.9, 98.1, 98.1, 98.1, 97.7, 97.9, 98.1, 98.1, 97.9, 97.7, 97.7, 98.1, 98.1, 97.9, 97.7, 97.9, 98.1, 98.1, 97.9, 97.9, 98.1, 97.5, 97.9, 98.1, 98.3, 97.9, 98.1, 97.7, 97.9, 97.5, 97.7, 97.7, 97.9, 98.1, 97.9, 98.1, 97.7, 97.9, 97.7, 97.7, 97.9, 97.7, 97.9, 98.1, 98.1, 98.1, 97.9, 98.1, 98.1, 98.1, 97.5, 98.1, 97.9, 98.1, 97.7, 97.7, 98.1, 98.1, 98.1, 97.7, 98.1, 98.1, 98.1, 98.1, 97.9, 98.1, 97.7, 97.7, 97.9, 97.9, 98.1, 97.9, 98.1, 97.9, 98.1, 97.9, 97.9, 97.7, 98.1, 98.1, 97.7, 98.1, 98.1, 98.1, 98.1, 97.5, 97.9, 98.1, 98.1, 98.1, 97.9, 98.1, 97.7, 97.9, 97.9, 97.9, 98.1, 97.3, 97.9, 97.9, 98.1, 97.9, 97.7, 98.1, 98.1, 97.9, 98.1, 98.1, 97.9, 98.1, 97.9, 97.7, 98.1, 97.9, 97.5, 98.1, 98.1, 97.9, 97.5, 98.1, 98.1, 97.9, 97.9, 98.1, 98.1, 97.9, 98.1, 97.9, 97.9, 97.7, 97.7, 98.1, 98.3, 97.9, 97.7, 98.1, 97.7, 98.1, 98.1, 97.9, 98.1, 98.1, 97.9, 98.1, 97.9, 98.1, 97.9, 97.3, 98.1, 98.1, 97.9, 98.1, 98.1, 97.9, 97.5, 98.1, 98.1, 98.1, 97.7, 97.9, 97.9, 97.9, 97.9, 97.9, 97.9, 97.9, 98.1, 98.1, 97.9, 97.9, 98.1, 97.9, 97.5, 97.9, 97.9, 98.1, 98.1, 98.1, 97.9, 97.9, 98.1, 98.1, 97.5, 97.9, 98.1, 97.9, 97.5, 97.5, 98.1, 97.9, 98.1, 97.5, 97.9, 97.7, 98.1, 97.9, 97.7, 98.1, 98.3, 98.1, 98.1, 98.1, 97.9, 98.1, 98.1, 97.9, 97.9, 98.1, 98.1, 98.1, 98.1, 98.1, 97.9, 97.9, 98.1, 97.9, 98.1, 98.1, 98.1, 98.1, 97.9, 97.7, 97.9, 98.1, 98.1, 98.1, 97.9, 97.9, 97.7, 98.1, 97.9, 98.1, 97.9, 97.9, 98.1, 97.9, 98.1, 98.1, 97.9, 98.1, 98.1, 97.9, 98.1, 98.1, 97.9, 97.9, 98.1, 97.5, 98.1, 97.9, 98.1, 97.7, 97.7, 98.1, 98.1, 98.1, 97.9, 97.7, 98.1, 98.1, 97.3, 97.3, 98.1, 98.1, 98.1, 97.7, 98.1, 97.7, 98.1, 97.7, 98.1, 98.1, 97.7, 97.5, 98.1, 97.7, 97.9, 98.1, 97.5, 97.9, 97.9, 98.1, 98.1, 97.7, 98.1, 97.7, 97.9, 98.1, 98.1, 97.9, 98.1, 98.1, 97.9, 98.1, 97.9, 97.7, 97.9, 98.1, 97.9, 98.1, 97.5, 98.1, 98.1, 97.7, 98.1, 98.1, 98.1, 97.9, 98.1, 98.1, 97.7, 97.9, 98.1, 98.1, 97.7, 98.1, 98.1, 97.9, 97.9, 98.1, 97.5, 97.9, 97.7, 98.1, 97.9, 98.1, 98.1, 98.1, 98.1, 98.1, 98.1, 98.1, 98.1, 98.1, 98.1, 97.9, 98.1, 97.9, 97.9, 97.7]\n"
          ]
        }
      ],
      "source": [
        "training_results = simulate_agent()\n",
        "print(\"Training results:\", training_results)"
      ]
    },
    {
      "cell_type": "code",
      "source": [
        "# Chạy demo với Q-table tốt nhất đã huấn luyện\n",
        "demo_best_agent(Q_table)"
      ],
      "metadata": {
        "colab": {
          "base_uri": "https://localhost:8080/",
          "height": 439
        },
        "id": "3wRMxv0Bvd-j",
        "outputId": "73fd8610-748e-46fa-ccf7-de41127f51d0"
      },
      "execution_count": 30,
      "outputs": [
        {
          "output_type": "display_data",
          "data": {
            "text/plain": [
              "<Figure size 500x500 with 1 Axes>"
            ],
            "image/png": "[encoded data removed]"
          },
          "metadata": {}
        },
        {
          "output_type": "stream",
          "name": "stdout",
          "text": [
            "Agent đã đến đích!\n"
          ]
        }
      ]
    }
  ],
  "metadata": {
    "colab": {
      "provenance": []
    },
    "kernelspec": {
      "display_name": "Python 3",
      "name": "python3"
    },
    "language_info": {
      "name": "python"
    }
  },
  "nbformat": 4,
  "nbformat_minor": 0
}